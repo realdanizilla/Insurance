{
 "cells": [
  {
   "cell_type": "markdown",
   "metadata": {},
   "source": [
    "# Data Preprocessing and EDA"
   ]
  },
  {
   "cell_type": "code",
   "execution_count": 1,
   "metadata": {},
   "outputs": [
    {
     "name": "stdout",
     "output_type": "stream",
     "text": [
      "\u001b[33mWARNING: Ignoring invalid distribution -cikit-learn (/opt/conda/envs/python3/lib/python3.9/site-packages)\u001b[0m\u001b[33m\n",
      "\u001b[0mRequirement already satisfied: scikit-learn in /opt/conda/envs/python3/lib/python3.9/site-packages (0.24.1)\n",
      "Collecting scikit-learn\n",
      "  Using cached scikit_learn-1.5.1-cp39-cp39-manylinux_2_17_x86_64.manylinux2014_x86_64.whl.metadata (12 kB)\n",
      "Requirement already satisfied: numpy>=1.19.5 in /opt/conda/envs/python3/lib/python3.9/site-packages (from scikit-learn) (1.21.2)\n",
      "Requirement already satisfied: scipy>=1.6.0 in /opt/conda/envs/python3/lib/python3.9/site-packages (from scikit-learn) (1.10.1)\n",
      "Requirement already satisfied: joblib>=1.2.0 in /opt/conda/envs/python3/lib/python3.9/site-packages (from scikit-learn) (1.4.2)\n",
      "Requirement already satisfied: threadpoolctl>=3.1.0 in /opt/conda/envs/python3/lib/python3.9/site-packages (from scikit-learn) (3.5.0)\n",
      "Using cached scikit_learn-1.5.1-cp39-cp39-manylinux_2_17_x86_64.manylinux2014_x86_64.whl (13.4 MB)\n",
      "\u001b[33mWARNING: Ignoring invalid distribution -cikit-learn (/opt/conda/envs/python3/lib/python3.9/site-packages)\u001b[0m\u001b[33m\n",
      "\u001b[0mInstalling collected packages: scikit-learn\n",
      "  Attempting uninstall: scikit-learn\n",
      "    Found existing installation: scikit-learn 0.24.1\n",
      "    Uninstalling scikit-learn-0.24.1:\n",
      "\u001b[31mERROR: Could not install packages due to an OSError: [Errno 13] Permission denied: 'COPYING'\n",
      "Consider using the `--user` option or check the permissions.\n",
      "\u001b[0m\u001b[31m\n",
      "\u001b[0mNote: you may need to restart the kernel to use updated packages.\n"
     ]
    }
   ],
   "source": [
    "pip install scikit-learn --upgrade"
   ]
  },
  {
   "cell_type": "code",
   "execution_count": 2,
   "metadata": {},
   "outputs": [],
   "source": [
    "import numpy as np\n",
    "import pandas as pd\n",
    "\n",
    "import seaborn as sns\n",
    "\n",
    "import sklearn.linear_model\n",
    "import sklearn.metrics\n",
    "import sklearn.neighbors\n",
    "import sklearn.preprocessing\n",
    "\n",
    "from sklearn.model_selection import train_test_split\n",
    "\n",
    "from IPython.display import display"
   ]
  },
  {
   "cell_type": "markdown",
   "metadata": {},
   "source": [
    "## Loading Data"
   ]
  },
  {
   "cell_type": "code",
   "execution_count": 3,
   "metadata": {},
   "outputs": [],
   "source": [
    "df = pd.read_csv('/datasets/insurance_us.csv')"
   ]
  },
  {
   "cell_type": "markdown",
   "metadata": {},
   "source": [
    "Renaming Columns"
   ]
  },
  {
   "cell_type": "code",
   "execution_count": 4,
   "metadata": {},
   "outputs": [],
   "source": [
    "df = df.rename(columns={'Gender': 'gender', 'Age': 'age', 'Salary': 'income', 'Family members': 'family_members', 'Insurance benefits': 'insurance_benefits'})"
   ]
  },
  {
   "cell_type": "code",
   "execution_count": 5,
   "metadata": {},
   "outputs": [
    {
     "data": {
      "text/html": [
       "<div>\n",
       "<style scoped>\n",
       "    .dataframe tbody tr th:only-of-type {\n",
       "        vertical-align: middle;\n",
       "    }\n",
       "\n",
       "    .dataframe tbody tr th {\n",
       "        vertical-align: top;\n",
       "    }\n",
       "\n",
       "    .dataframe thead th {\n",
       "        text-align: right;\n",
       "    }\n",
       "</style>\n",
       "<table border=\"1\" class=\"dataframe\">\n",
       "  <thead>\n",
       "    <tr style=\"text-align: right;\">\n",
       "      <th></th>\n",
       "      <th>gender</th>\n",
       "      <th>age</th>\n",
       "      <th>income</th>\n",
       "      <th>family_members</th>\n",
       "      <th>insurance_benefits</th>\n",
       "    </tr>\n",
       "  </thead>\n",
       "  <tbody>\n",
       "    <tr>\n",
       "      <th>1528</th>\n",
       "      <td>1</td>\n",
       "      <td>27.0</td>\n",
       "      <td>36800.0</td>\n",
       "      <td>1</td>\n",
       "      <td>0</td>\n",
       "    </tr>\n",
       "    <tr>\n",
       "      <th>639</th>\n",
       "      <td>1</td>\n",
       "      <td>21.0</td>\n",
       "      <td>40800.0</td>\n",
       "      <td>1</td>\n",
       "      <td>0</td>\n",
       "    </tr>\n",
       "    <tr>\n",
       "      <th>4023</th>\n",
       "      <td>1</td>\n",
       "      <td>40.0</td>\n",
       "      <td>34800.0</td>\n",
       "      <td>2</td>\n",
       "      <td>0</td>\n",
       "    </tr>\n",
       "    <tr>\n",
       "      <th>2026</th>\n",
       "      <td>1</td>\n",
       "      <td>40.0</td>\n",
       "      <td>44500.0</td>\n",
       "      <td>0</td>\n",
       "      <td>0</td>\n",
       "    </tr>\n",
       "    <tr>\n",
       "      <th>3894</th>\n",
       "      <td>0</td>\n",
       "      <td>21.0</td>\n",
       "      <td>41700.0</td>\n",
       "      <td>2</td>\n",
       "      <td>0</td>\n",
       "    </tr>\n",
       "    <tr>\n",
       "      <th>623</th>\n",
       "      <td>1</td>\n",
       "      <td>41.0</td>\n",
       "      <td>18700.0</td>\n",
       "      <td>1</td>\n",
       "      <td>0</td>\n",
       "    </tr>\n",
       "    <tr>\n",
       "      <th>3042</th>\n",
       "      <td>1</td>\n",
       "      <td>40.0</td>\n",
       "      <td>55200.0</td>\n",
       "      <td>1</td>\n",
       "      <td>0</td>\n",
       "    </tr>\n",
       "    <tr>\n",
       "      <th>4422</th>\n",
       "      <td>0</td>\n",
       "      <td>30.0</td>\n",
       "      <td>24200.0</td>\n",
       "      <td>2</td>\n",
       "      <td>0</td>\n",
       "    </tr>\n",
       "    <tr>\n",
       "      <th>3252</th>\n",
       "      <td>1</td>\n",
       "      <td>35.0</td>\n",
       "      <td>41700.0</td>\n",
       "      <td>1</td>\n",
       "      <td>0</td>\n",
       "    </tr>\n",
       "    <tr>\n",
       "      <th>772</th>\n",
       "      <td>1</td>\n",
       "      <td>20.0</td>\n",
       "      <td>65100.0</td>\n",
       "      <td>1</td>\n",
       "      <td>0</td>\n",
       "    </tr>\n",
       "  </tbody>\n",
       "</table>\n",
       "</div>"
      ],
      "text/plain": [
       "      gender   age   income  family_members  insurance_benefits\n",
       "1528       1  27.0  36800.0               1                   0\n",
       "639        1  21.0  40800.0               1                   0\n",
       "4023       1  40.0  34800.0               2                   0\n",
       "2026       1  40.0  44500.0               0                   0\n",
       "3894       0  21.0  41700.0               2                   0\n",
       "623        1  41.0  18700.0               1                   0\n",
       "3042       1  40.0  55200.0               1                   0\n",
       "4422       0  30.0  24200.0               2                   0\n",
       "3252       1  35.0  41700.0               1                   0\n",
       "772        1  20.0  65100.0               1                   0"
      ]
     },
     "execution_count": 5,
     "metadata": {},
     "output_type": "execute_result"
    }
   ],
   "source": [
    "df.sample(10)"
   ]
  },
  {
   "cell_type": "code",
   "execution_count": 6,
   "metadata": {},
   "outputs": [
    {
     "name": "stdout",
     "output_type": "stream",
     "text": [
      "<class 'pandas.core.frame.DataFrame'>\n",
      "RangeIndex: 5000 entries, 0 to 4999\n",
      "Data columns (total 5 columns):\n",
      " #   Column              Non-Null Count  Dtype  \n",
      "---  ------              --------------  -----  \n",
      " 0   gender              5000 non-null   int64  \n",
      " 1   age                 5000 non-null   float64\n",
      " 2   income              5000 non-null   float64\n",
      " 3   family_members      5000 non-null   int64  \n",
      " 4   insurance_benefits  5000 non-null   int64  \n",
      "dtypes: float64(2), int64(3)\n",
      "memory usage: 195.4 KB\n"
     ]
    }
   ],
   "source": [
    "df.info()"
   ]
  },
  {
   "cell_type": "code",
   "execution_count": 7,
   "metadata": {},
   "outputs": [],
   "source": [
    "# podemos querer corrigir o tipo de idade (de float para int), embora isso não seja crítico\n",
    "\n",
    "# escreva sua conversão aqui se você escolher:\n",
    "df[\"age\"] = df[\"age\"].astype(\"int\")"
   ]
  },
  {
   "cell_type": "code",
   "execution_count": 8,
   "metadata": {},
   "outputs": [
    {
     "name": "stdout",
     "output_type": "stream",
     "text": [
      "<class 'pandas.core.frame.DataFrame'>\n",
      "RangeIndex: 5000 entries, 0 to 4999\n",
      "Data columns (total 5 columns):\n",
      " #   Column              Non-Null Count  Dtype  \n",
      "---  ------              --------------  -----  \n",
      " 0   gender              5000 non-null   int64  \n",
      " 1   age                 5000 non-null   int64  \n",
      " 2   income              5000 non-null   float64\n",
      " 3   family_members      5000 non-null   int64  \n",
      " 4   insurance_benefits  5000 non-null   int64  \n",
      "dtypes: float64(1), int64(4)\n",
      "memory usage: 195.4 KB\n"
     ]
    }
   ],
   "source": [
    "# verifique se a conversão foi bem-sucedida\n",
    "df.info()"
   ]
  },
  {
   "cell_type": "code",
   "execution_count": 9,
   "metadata": {},
   "outputs": [],
   "source": [
    "# agora dê uma olhada nas estatísticas descritivas dos dados.\n",
    "# Parece que está tudo bem?"
   ]
  },
  {
   "cell_type": "code",
   "execution_count": 10,
   "metadata": {},
   "outputs": [
    {
     "data": {
      "text/html": [
       "<div>\n",
       "<style scoped>\n",
       "    .dataframe tbody tr th:only-of-type {\n",
       "        vertical-align: middle;\n",
       "    }\n",
       "\n",
       "    .dataframe tbody tr th {\n",
       "        vertical-align: top;\n",
       "    }\n",
       "\n",
       "    .dataframe thead th {\n",
       "        text-align: right;\n",
       "    }\n",
       "</style>\n",
       "<table border=\"1\" class=\"dataframe\">\n",
       "  <thead>\n",
       "    <tr style=\"text-align: right;\">\n",
       "      <th></th>\n",
       "      <th>gender</th>\n",
       "      <th>age</th>\n",
       "      <th>income</th>\n",
       "      <th>family_members</th>\n",
       "      <th>insurance_benefits</th>\n",
       "    </tr>\n",
       "  </thead>\n",
       "  <tbody>\n",
       "    <tr>\n",
       "      <th>count</th>\n",
       "      <td>5000.000000</td>\n",
       "      <td>5000.000000</td>\n",
       "      <td>5000.000000</td>\n",
       "      <td>5000.000000</td>\n",
       "      <td>5000.000000</td>\n",
       "    </tr>\n",
       "    <tr>\n",
       "      <th>mean</th>\n",
       "      <td>0.499000</td>\n",
       "      <td>30.952800</td>\n",
       "      <td>39916.360000</td>\n",
       "      <td>1.194200</td>\n",
       "      <td>0.148000</td>\n",
       "    </tr>\n",
       "    <tr>\n",
       "      <th>std</th>\n",
       "      <td>0.500049</td>\n",
       "      <td>8.440807</td>\n",
       "      <td>9900.083569</td>\n",
       "      <td>1.091387</td>\n",
       "      <td>0.463183</td>\n",
       "    </tr>\n",
       "    <tr>\n",
       "      <th>min</th>\n",
       "      <td>0.000000</td>\n",
       "      <td>18.000000</td>\n",
       "      <td>5300.000000</td>\n",
       "      <td>0.000000</td>\n",
       "      <td>0.000000</td>\n",
       "    </tr>\n",
       "    <tr>\n",
       "      <th>25%</th>\n",
       "      <td>0.000000</td>\n",
       "      <td>24.000000</td>\n",
       "      <td>33300.000000</td>\n",
       "      <td>0.000000</td>\n",
       "      <td>0.000000</td>\n",
       "    </tr>\n",
       "    <tr>\n",
       "      <th>50%</th>\n",
       "      <td>0.000000</td>\n",
       "      <td>30.000000</td>\n",
       "      <td>40200.000000</td>\n",
       "      <td>1.000000</td>\n",
       "      <td>0.000000</td>\n",
       "    </tr>\n",
       "    <tr>\n",
       "      <th>75%</th>\n",
       "      <td>1.000000</td>\n",
       "      <td>37.000000</td>\n",
       "      <td>46600.000000</td>\n",
       "      <td>2.000000</td>\n",
       "      <td>0.000000</td>\n",
       "    </tr>\n",
       "    <tr>\n",
       "      <th>max</th>\n",
       "      <td>1.000000</td>\n",
       "      <td>65.000000</td>\n",
       "      <td>79000.000000</td>\n",
       "      <td>6.000000</td>\n",
       "      <td>5.000000</td>\n",
       "    </tr>\n",
       "  </tbody>\n",
       "</table>\n",
       "</div>"
      ],
      "text/plain": [
       "            gender          age        income  family_members  \\\n",
       "count  5000.000000  5000.000000   5000.000000     5000.000000   \n",
       "mean      0.499000    30.952800  39916.360000        1.194200   \n",
       "std       0.500049     8.440807   9900.083569        1.091387   \n",
       "min       0.000000    18.000000   5300.000000        0.000000   \n",
       "25%       0.000000    24.000000  33300.000000        0.000000   \n",
       "50%       0.000000    30.000000  40200.000000        1.000000   \n",
       "75%       1.000000    37.000000  46600.000000        2.000000   \n",
       "max       1.000000    65.000000  79000.000000        6.000000   \n",
       "\n",
       "       insurance_benefits  \n",
       "count         5000.000000  \n",
       "mean             0.148000  \n",
       "std              0.463183  \n",
       "min              0.000000  \n",
       "25%              0.000000  \n",
       "50%              0.000000  \n",
       "75%              0.000000  \n",
       "max              5.000000  "
      ]
     },
     "execution_count": 10,
     "metadata": {},
     "output_type": "execute_result"
    }
   ],
   "source": [
    "df.describe()"
   ]
  },
  {
   "cell_type": "markdown",
   "metadata": {},
   "source": [
    "Conclusion:\n",
    "\n",
    "- All data is numeric, which is necessary for performing regression modeling.\n",
    "- The different features vary in different scales, so we will need to scale the data during modeling.\n",
    "- \"Insurance benefits\" ranges from 0 to 5, not 0 to 1, indicating that up to 5 types of benefits are considered, rather than a binary value of 0 or 1.\n",
    "- There are no missing or duplicate values."
   ]
  },
  {
   "cell_type": "markdown",
   "metadata": {},
   "source": [
    "## EDA"
   ]
  },
  {
   "cell_type": "markdown",
   "metadata": {},
   "source": [
    "Let's check for customer groups using pairplot"
   ]
  },
  {
   "cell_type": "code",
   "execution_count": 11,
   "metadata": {},
   "outputs": [
    {
     "data": {
      "image/png": "[encoded data removed]",
      "text/plain": [
       "<Figure size 1200x1200 with 30 Axes>"
      ]
     },
     "metadata": {},
     "output_type": "display_data"
    }
   ],
   "source": [
    "g = sns.pairplot(df, kind='hist')\n",
    "g.fig.set_size_inches(12, 12)"
   ]
  },
  {
   "cell_type": "markdown",
   "metadata": {},
   "source": [
    "Ok, it's a bit challenging to identify obvious groups (clusters) since it's difficult to combine multiple variables simultaneously (to analyze multivariate distributions). That's where Linear Algebra and Machine Learning can be quite helpful."
   ]
  },
  {
   "cell_type": "markdown",
   "metadata": {},
   "source": [
    "# Task 1 Similar Customers"
   ]
  },
  {
   "cell_type": "markdown",
   "metadata": {},
   "source": [
    "# k-Nearest Neighbors (kNN) Function for Client Segmentation\n",
    "\n",
    "## Objective\n",
    "Create a function that returns the k-nearest neighbors for a given n-th object based on a specified distance metric. The task focuses on segmenting clients without considering the number of insurance payouts received.\n",
    "\n",
    "## Steps\n",
    "### Step 1: Implement the kNN Algorithm\n",
    "- Use the ready-made implementation from scikit-learn ([see the documentation](https://scikit-learn.org/stable/modules/generated/sklearn.neighbors.NearestNeighbors.html#sklearn.neighbors.NearestNeighbors)).\n",
    "- Create a custom implementation of the kNN algorithm from scratch.\n",
    "\n",
    "### Step 2: Test the Function\n",
    "Test the kNN function across four combinations to understand the impact of scalability and distance metrics on model performance:\n",
    "#### 1. Scalability\n",
    "   - **Non-scaled Data**: Use the original dataset without applying any scaling.\n",
    "   - **Scaled Data**: Use [MaxAbsScaler](https://scikit-learn.org/stable/modules/generated/sklearn.preprocessing.MaxAbsScaler.html) from scikit-learn to scale the data, ensuring all feature values fall between -1 and 1.\n",
    "   \n",
    "#### 2. Distance Metrics\n",
    "   - **Euclidean Distance**: Measure the straight-line distance between two points in a multi-dimensional space.\n",
    "   - **Manhattan Distance**: Calculate the sum of the absolute differences between the coordinates of two points.\n",
    "\n",
    "### Step 3: Analyze the Results\n",
    "\n",
    "\n",
    "#### Impact of Non-Scaled Data on kNN\n",
    "- How does non-scaled data affect the performance of the kNN algorithm?\n",
    "  - If there is an impact, explain how the algorithm's performance or accuracy is influenced by the lack of scaling.\n",
    "\n",
    "#### Similarity of Results Using the Manhattan Distance\n",
    "- Compare results using the Manhattan distance metric (regardless of whether the data is scaled).\n",
    "  - How similar are the outcomes when using this distance metric? Discuss any patterns or differences observed.\n"
   ]
  },
  {
   "cell_type": "code",
   "execution_count": 12,
   "metadata": {},
   "outputs": [],
   "source": [
    "feature_names = ['gender', 'age', 'income', 'family_members']"
   ]
  },
  {
   "cell_type": "code",
   "execution_count": 13,
   "metadata": {},
   "outputs": [],
   "source": [
    "from sklearn.neighbors import NearestNeighbors\n",
    "\n",
    "def get_knn(df, n, k, metric):\n",
    "    \n",
    "    \"\"\"\n",
    "    Retorna os vizinhos mais próximos de k\n",
    "\n",
    "    :param df: DataFrame pandas usado para encontrar objetos semelhantes dentro de    \n",
    "    :param n: número do objeto pelo qual os vizinhos mais próximos são procurados\n",
    "    :param k: o número dos vizinhos mais próximos a serem retornados\n",
    "    :param metric: nome da métrica de distância    \"\"\"\n",
    "\n",
    "    nbrs = NearestNeighbors(n_neighbors=k,metric=metric).fit(df[feature_names])\n",
    "    nbrs_distances, nbrs_indices = nbrs.kneighbors([df.iloc[n][feature_names]], k, return_distance=True)\n",
    "    \n",
    "    df_res = pd.concat([\n",
    "        df.iloc[nbrs_indices[0]], \n",
    "        pd.DataFrame(nbrs_distances.T, index=nbrs_indices[0], columns=['distance'])\n",
    "        ], axis=1)\n",
    "    \n",
    "    return df_res"
   ]
  },
  {
   "cell_type": "markdown",
   "metadata": {},
   "source": [
    "Scaling the data"
   ]
  },
  {
   "cell_type": "code",
   "execution_count": 14,
   "metadata": {},
   "outputs": [],
   "source": [
    "feature_names = ['gender', 'age', 'income', 'family_members']\n",
    "\n",
    "transformer_mas = sklearn.preprocessing.MaxAbsScaler().fit(df[feature_names].to_numpy())\n",
    "\n",
    "df_scaled = df.copy()\n",
    "df_scaled.loc[:, feature_names] = transformer_mas.transform(df[feature_names].to_numpy())"
   ]
  },
  {
   "cell_type": "code",
   "execution_count": 15,
   "metadata": {},
   "outputs": [
    {
     "data": {
      "text/html": [
       "<div>\n",
       "<style scoped>\n",
       "    .dataframe tbody tr th:only-of-type {\n",
       "        vertical-align: middle;\n",
       "    }\n",
       "\n",
       "    .dataframe tbody tr th {\n",
       "        vertical-align: top;\n",
       "    }\n",
       "\n",
       "    .dataframe thead th {\n",
       "        text-align: right;\n",
       "    }\n",
       "</style>\n",
       "<table border=\"1\" class=\"dataframe\">\n",
       "  <thead>\n",
       "    <tr style=\"text-align: right;\">\n",
       "      <th></th>\n",
       "      <th>gender</th>\n",
       "      <th>age</th>\n",
       "      <th>income</th>\n",
       "      <th>family_members</th>\n",
       "      <th>insurance_benefits</th>\n",
       "    </tr>\n",
       "  </thead>\n",
       "  <tbody>\n",
       "    <tr>\n",
       "      <th>3433</th>\n",
       "      <td>0.0</td>\n",
       "      <td>0.461538</td>\n",
       "      <td>0.327848</td>\n",
       "      <td>0.000000</td>\n",
       "      <td>0</td>\n",
       "    </tr>\n",
       "    <tr>\n",
       "      <th>3996</th>\n",
       "      <td>1.0</td>\n",
       "      <td>0.769231</td>\n",
       "      <td>0.520253</td>\n",
       "      <td>0.166667</td>\n",
       "      <td>2</td>\n",
       "    </tr>\n",
       "    <tr>\n",
       "      <th>87</th>\n",
       "      <td>0.0</td>\n",
       "      <td>0.430769</td>\n",
       "      <td>0.581013</td>\n",
       "      <td>0.000000</td>\n",
       "      <td>0</td>\n",
       "    </tr>\n",
       "    <tr>\n",
       "      <th>2038</th>\n",
       "      <td>0.0</td>\n",
       "      <td>0.446154</td>\n",
       "      <td>0.605063</td>\n",
       "      <td>0.000000</td>\n",
       "      <td>0</td>\n",
       "    </tr>\n",
       "    <tr>\n",
       "      <th>410</th>\n",
       "      <td>0.0</td>\n",
       "      <td>0.492308</td>\n",
       "      <td>0.502532</td>\n",
       "      <td>0.166667</td>\n",
       "      <td>0</td>\n",
       "    </tr>\n",
       "  </tbody>\n",
       "</table>\n",
       "</div>"
      ],
      "text/plain": [
       "      gender       age    income  family_members  insurance_benefits\n",
       "3433     0.0  0.461538  0.327848        0.000000                   0\n",
       "3996     1.0  0.769231  0.520253        0.166667                   2\n",
       "87       0.0  0.430769  0.581013        0.000000                   0\n",
       "2038     0.0  0.446154  0.605063        0.000000                   0\n",
       "410      0.0  0.492308  0.502532        0.166667                   0"
      ]
     },
     "execution_count": 15,
     "metadata": {},
     "output_type": "execute_result"
    }
   ],
   "source": [
    "df_scaled.sample(5)"
   ]
  },
  {
   "cell_type": "markdown",
   "metadata": {},
   "source": [
    "Finding similar records to a particular record for each combination"
   ]
  },
  {
   "cell_type": "code",
   "execution_count": 17,
   "metadata": {},
   "outputs": [
    {
     "name": "stdout",
     "output_type": "stream",
     "text": [
      "Distância: euclidean, Scaled? Não\n"
     ]
    },
    {
     "data": {
      "text/html": [
       "<div>\n",
       "<style scoped>\n",
       "    .dataframe tbody tr th:only-of-type {\n",
       "        vertical-align: middle;\n",
       "    }\n",
       "\n",
       "    .dataframe tbody tr th {\n",
       "        vertical-align: top;\n",
       "    }\n",
       "\n",
       "    .dataframe thead th {\n",
       "        text-align: right;\n",
       "    }\n",
       "</style>\n",
       "<table border=\"1\" class=\"dataframe\">\n",
       "  <thead>\n",
       "    <tr style=\"text-align: right;\">\n",
       "      <th></th>\n",
       "      <th>gender</th>\n",
       "      <th>age</th>\n",
       "      <th>income</th>\n",
       "      <th>family_members</th>\n",
       "      <th>insurance_benefits</th>\n",
       "      <th>distance</th>\n",
       "    </tr>\n",
       "  </thead>\n",
       "  <tbody>\n",
       "    <tr>\n",
       "      <th>2784</th>\n",
       "      <td>1</td>\n",
       "      <td>25</td>\n",
       "      <td>44300.0</td>\n",
       "      <td>0</td>\n",
       "      <td>0</td>\n",
       "      <td>0.000000</td>\n",
       "    </tr>\n",
       "    <tr>\n",
       "      <th>2075</th>\n",
       "      <td>1</td>\n",
       "      <td>24</td>\n",
       "      <td>44300.0</td>\n",
       "      <td>1</td>\n",
       "      <td>0</td>\n",
       "      <td>1.414214</td>\n",
       "    </tr>\n",
       "    <tr>\n",
       "      <th>3195</th>\n",
       "      <td>0</td>\n",
       "      <td>26</td>\n",
       "      <td>44300.0</td>\n",
       "      <td>1</td>\n",
       "      <td>0</td>\n",
       "      <td>1.732051</td>\n",
       "    </tr>\n",
       "    <tr>\n",
       "      <th>3288</th>\n",
       "      <td>1</td>\n",
       "      <td>24</td>\n",
       "      <td>44300.0</td>\n",
       "      <td>2</td>\n",
       "      <td>0</td>\n",
       "      <td>2.236068</td>\n",
       "    </tr>\n",
       "    <tr>\n",
       "      <th>4072</th>\n",
       "      <td>1</td>\n",
       "      <td>27</td>\n",
       "      <td>44300.0</td>\n",
       "      <td>1</td>\n",
       "      <td>0</td>\n",
       "      <td>2.236068</td>\n",
       "    </tr>\n",
       "  </tbody>\n",
       "</table>\n",
       "</div>"
      ],
      "text/plain": [
       "      gender  age   income  family_members  insurance_benefits  distance\n",
       "2784       1   25  44300.0               0                   0  0.000000\n",
       "2075       1   24  44300.0               1                   0  1.414214\n",
       "3195       0   26  44300.0               1                   0  1.732051\n",
       "3288       1   24  44300.0               2                   0  2.236068\n",
       "4072       1   27  44300.0               1                   0  2.236068"
      ]
     },
     "metadata": {},
     "output_type": "display_data"
    },
    {
     "name": "stdout",
     "output_type": "stream",
     "text": [
      "Distância: euclidean, Scaled? Sim\n"
     ]
    },
    {
     "data": {
      "text/html": [
       "<div>\n",
       "<style scoped>\n",
       "    .dataframe tbody tr th:only-of-type {\n",
       "        vertical-align: middle;\n",
       "    }\n",
       "\n",
       "    .dataframe tbody tr th {\n",
       "        vertical-align: top;\n",
       "    }\n",
       "\n",
       "    .dataframe thead th {\n",
       "        text-align: right;\n",
       "    }\n",
       "</style>\n",
       "<table border=\"1\" class=\"dataframe\">\n",
       "  <thead>\n",
       "    <tr style=\"text-align: right;\">\n",
       "      <th></th>\n",
       "      <th>gender</th>\n",
       "      <th>age</th>\n",
       "      <th>income</th>\n",
       "      <th>family_members</th>\n",
       "      <th>insurance_benefits</th>\n",
       "      <th>distance</th>\n",
       "    </tr>\n",
       "  </thead>\n",
       "  <tbody>\n",
       "    <tr>\n",
       "      <th>2784</th>\n",
       "      <td>1.0</td>\n",
       "      <td>0.384615</td>\n",
       "      <td>0.560759</td>\n",
       "      <td>0.0</td>\n",
       "      <td>0</td>\n",
       "      <td>0.000000</td>\n",
       "    </tr>\n",
       "    <tr>\n",
       "      <th>138</th>\n",
       "      <td>1.0</td>\n",
       "      <td>0.384615</td>\n",
       "      <td>0.568354</td>\n",
       "      <td>0.0</td>\n",
       "      <td>0</td>\n",
       "      <td>0.007595</td>\n",
       "    </tr>\n",
       "    <tr>\n",
       "      <th>4633</th>\n",
       "      <td>1.0</td>\n",
       "      <td>0.384615</td>\n",
       "      <td>0.548101</td>\n",
       "      <td>0.0</td>\n",
       "      <td>0</td>\n",
       "      <td>0.012658</td>\n",
       "    </tr>\n",
       "    <tr>\n",
       "      <th>239</th>\n",
       "      <td>1.0</td>\n",
       "      <td>0.400000</td>\n",
       "      <td>0.559494</td>\n",
       "      <td>0.0</td>\n",
       "      <td>0</td>\n",
       "      <td>0.015437</td>\n",
       "    </tr>\n",
       "    <tr>\n",
       "      <th>1669</th>\n",
       "      <td>1.0</td>\n",
       "      <td>0.369231</td>\n",
       "      <td>0.558228</td>\n",
       "      <td>0.0</td>\n",
       "      <td>0</td>\n",
       "      <td>0.015592</td>\n",
       "    </tr>\n",
       "  </tbody>\n",
       "</table>\n",
       "</div>"
      ],
      "text/plain": [
       "      gender       age    income  family_members  insurance_benefits  distance\n",
       "2784     1.0  0.384615  0.560759             0.0                   0  0.000000\n",
       "138      1.0  0.384615  0.568354             0.0                   0  0.007595\n",
       "4633     1.0  0.384615  0.548101             0.0                   0  0.012658\n",
       "239      1.0  0.400000  0.559494             0.0                   0  0.015437\n",
       "1669     1.0  0.369231  0.558228             0.0                   0  0.015592"
      ]
     },
     "metadata": {},
     "output_type": "display_data"
    },
    {
     "name": "stdout",
     "output_type": "stream",
     "text": [
      "Distância: manhattan, Scaled? Não\n"
     ]
    },
    {
     "data": {
      "text/html": [
       "<div>\n",
       "<style scoped>\n",
       "    .dataframe tbody tr th:only-of-type {\n",
       "        vertical-align: middle;\n",
       "    }\n",
       "\n",
       "    .dataframe tbody tr th {\n",
       "        vertical-align: top;\n",
       "    }\n",
       "\n",
       "    .dataframe thead th {\n",
       "        text-align: right;\n",
       "    }\n",
       "</style>\n",
       "<table border=\"1\" class=\"dataframe\">\n",
       "  <thead>\n",
       "    <tr style=\"text-align: right;\">\n",
       "      <th></th>\n",
       "      <th>gender</th>\n",
       "      <th>age</th>\n",
       "      <th>income</th>\n",
       "      <th>family_members</th>\n",
       "      <th>insurance_benefits</th>\n",
       "      <th>distance</th>\n",
       "    </tr>\n",
       "  </thead>\n",
       "  <tbody>\n",
       "    <tr>\n",
       "      <th>2784</th>\n",
       "      <td>1</td>\n",
       "      <td>25</td>\n",
       "      <td>44300.0</td>\n",
       "      <td>0</td>\n",
       "      <td>0</td>\n",
       "      <td>0.0</td>\n",
       "    </tr>\n",
       "    <tr>\n",
       "      <th>2075</th>\n",
       "      <td>1</td>\n",
       "      <td>24</td>\n",
       "      <td>44300.0</td>\n",
       "      <td>1</td>\n",
       "      <td>0</td>\n",
       "      <td>2.0</td>\n",
       "    </tr>\n",
       "    <tr>\n",
       "      <th>3195</th>\n",
       "      <td>0</td>\n",
       "      <td>26</td>\n",
       "      <td>44300.0</td>\n",
       "      <td>1</td>\n",
       "      <td>0</td>\n",
       "      <td>3.0</td>\n",
       "    </tr>\n",
       "    <tr>\n",
       "      <th>3288</th>\n",
       "      <td>1</td>\n",
       "      <td>24</td>\n",
       "      <td>44300.0</td>\n",
       "      <td>2</td>\n",
       "      <td>0</td>\n",
       "      <td>3.0</td>\n",
       "    </tr>\n",
       "    <tr>\n",
       "      <th>4072</th>\n",
       "      <td>1</td>\n",
       "      <td>27</td>\n",
       "      <td>44300.0</td>\n",
       "      <td>1</td>\n",
       "      <td>0</td>\n",
       "      <td>3.0</td>\n",
       "    </tr>\n",
       "  </tbody>\n",
       "</table>\n",
       "</div>"
      ],
      "text/plain": [
       "      gender  age   income  family_members  insurance_benefits  distance\n",
       "2784       1   25  44300.0               0                   0       0.0\n",
       "2075       1   24  44300.0               1                   0       2.0\n",
       "3195       0   26  44300.0               1                   0       3.0\n",
       "3288       1   24  44300.0               2                   0       3.0\n",
       "4072       1   27  44300.0               1                   0       3.0"
      ]
     },
     "metadata": {},
     "output_type": "display_data"
    },
    {
     "name": "stdout",
     "output_type": "stream",
     "text": [
      "Distância: manhattan, Scaled? Sim\n"
     ]
    },
    {
     "data": {
      "text/html": [
       "<div>\n",
       "<style scoped>\n",
       "    .dataframe tbody tr th:only-of-type {\n",
       "        vertical-align: middle;\n",
       "    }\n",
       "\n",
       "    .dataframe tbody tr th {\n",
       "        vertical-align: top;\n",
       "    }\n",
       "\n",
       "    .dataframe thead th {\n",
       "        text-align: right;\n",
       "    }\n",
       "</style>\n",
       "<table border=\"1\" class=\"dataframe\">\n",
       "  <thead>\n",
       "    <tr style=\"text-align: right;\">\n",
       "      <th></th>\n",
       "      <th>gender</th>\n",
       "      <th>age</th>\n",
       "      <th>income</th>\n",
       "      <th>family_members</th>\n",
       "      <th>insurance_benefits</th>\n",
       "      <th>distance</th>\n",
       "    </tr>\n",
       "  </thead>\n",
       "  <tbody>\n",
       "    <tr>\n",
       "      <th>2784</th>\n",
       "      <td>1.0</td>\n",
       "      <td>0.384615</td>\n",
       "      <td>0.560759</td>\n",
       "      <td>0.0</td>\n",
       "      <td>0</td>\n",
       "      <td>0.000000</td>\n",
       "    </tr>\n",
       "    <tr>\n",
       "      <th>138</th>\n",
       "      <td>1.0</td>\n",
       "      <td>0.384615</td>\n",
       "      <td>0.568354</td>\n",
       "      <td>0.0</td>\n",
       "      <td>0</td>\n",
       "      <td>0.007595</td>\n",
       "    </tr>\n",
       "    <tr>\n",
       "      <th>4633</th>\n",
       "      <td>1.0</td>\n",
       "      <td>0.384615</td>\n",
       "      <td>0.548101</td>\n",
       "      <td>0.0</td>\n",
       "      <td>0</td>\n",
       "      <td>0.012658</td>\n",
       "    </tr>\n",
       "    <tr>\n",
       "      <th>239</th>\n",
       "      <td>1.0</td>\n",
       "      <td>0.400000</td>\n",
       "      <td>0.559494</td>\n",
       "      <td>0.0</td>\n",
       "      <td>0</td>\n",
       "      <td>0.016650</td>\n",
       "    </tr>\n",
       "    <tr>\n",
       "      <th>1669</th>\n",
       "      <td>1.0</td>\n",
       "      <td>0.369231</td>\n",
       "      <td>0.558228</td>\n",
       "      <td>0.0</td>\n",
       "      <td>0</td>\n",
       "      <td>0.017916</td>\n",
       "    </tr>\n",
       "  </tbody>\n",
       "</table>\n",
       "</div>"
      ],
      "text/plain": [
       "      gender       age    income  family_members  insurance_benefits  distance\n",
       "2784     1.0  0.384615  0.560759             0.0                   0  0.000000\n",
       "138      1.0  0.384615  0.568354             0.0                   0  0.007595\n",
       "4633     1.0  0.384615  0.548101             0.0                   0  0.012658\n",
       "239      1.0  0.400000  0.559494             0.0                   0  0.016650\n",
       "1669     1.0  0.369231  0.558228             0.0                   0  0.017916"
      ]
     },
     "metadata": {},
     "output_type": "display_data"
    }
   ],
   "source": [
    "import random\n",
    "\n",
    "k = 5\n",
    "n = random.randint(0,len(df))\n",
    "\n",
    "metrics = [\"euclidean\", \"manhattan\"]\n",
    "dfs = [df,df_scaled]\n",
    "\n",
    "for metric in metrics:\n",
    "    for dataframe in dfs:\n",
    "        k_neighbors = get_knn(dataframe,n,k,metric)\n",
    "        print(f'Distância: {metric}, Scaled? {\"Sim\" if dataframe is df_scaled else \"Não\"}')\n",
    "        display(k_neighbors)"
   ]
  },
  {
   "cell_type": "markdown",
   "metadata": {},
   "source": [
    "Respostas para as perguntas"
   ]
  },
  {
   "cell_type": "markdown",
   "metadata": {},
   "source": [
    "Conclusion:\n",
    "\n",
    "- Non-scaled data does affect the kNN algorithm. When we scale the data, the results of kNN change, meaning the nearest neighbors identified are different. \n",
    "- The change is most noticeable when comparing scaled vs. non-scaled data. However, when comparing different distance metrics (Euclidean vs. Manhattan), the nearest neighbors tend to remain the same."
   ]
  },
  {
   "cell_type": "markdown",
   "metadata": {},
   "source": [
    "# Task 2 - Is it likely that a customer will receive an insurance payout?"
   ]
  },
  {
   "cell_type": "code",
   "execution_count": 38,
   "metadata": {},
   "outputs": [],
   "source": [
    "# calcule a meta\n",
    "df['insurance_benefits_received'] = np.where(df[\"insurance_benefits\"] > 0,1,0)\n",
    "# df[\"insurance_benefits_received\"] = (df[\"insurance_benefits\"]> 0).astype('int')"
   ]
  },
  {
   "cell_type": "code",
   "execution_count": 39,
   "metadata": {},
   "outputs": [
    {
     "data": {
      "text/html": [
       "<div>\n",
       "<style scoped>\n",
       "    .dataframe tbody tr th:only-of-type {\n",
       "        vertical-align: middle;\n",
       "    }\n",
       "\n",
       "    .dataframe tbody tr th {\n",
       "        vertical-align: top;\n",
       "    }\n",
       "\n",
       "    .dataframe thead th {\n",
       "        text-align: right;\n",
       "    }\n",
       "</style>\n",
       "<table border=\"1\" class=\"dataframe\">\n",
       "  <thead>\n",
       "    <tr style=\"text-align: right;\">\n",
       "      <th></th>\n",
       "      <th>gender</th>\n",
       "      <th>age</th>\n",
       "      <th>income</th>\n",
       "      <th>family_members</th>\n",
       "      <th>insurance_benefits</th>\n",
       "      <th>insurance_benefits_received</th>\n",
       "    </tr>\n",
       "  </thead>\n",
       "  <tbody>\n",
       "    <tr>\n",
       "      <th>4726</th>\n",
       "      <td>1</td>\n",
       "      <td>19</td>\n",
       "      <td>31700.0</td>\n",
       "      <td>1</td>\n",
       "      <td>0</td>\n",
       "      <td>0</td>\n",
       "    </tr>\n",
       "    <tr>\n",
       "      <th>1935</th>\n",
       "      <td>0</td>\n",
       "      <td>45</td>\n",
       "      <td>43600.0</td>\n",
       "      <td>1</td>\n",
       "      <td>1</td>\n",
       "      <td>1</td>\n",
       "    </tr>\n",
       "    <tr>\n",
       "      <th>2681</th>\n",
       "      <td>0</td>\n",
       "      <td>29</td>\n",
       "      <td>37600.0</td>\n",
       "      <td>0</td>\n",
       "      <td>0</td>\n",
       "      <td>0</td>\n",
       "    </tr>\n",
       "    <tr>\n",
       "      <th>45</th>\n",
       "      <td>0</td>\n",
       "      <td>24</td>\n",
       "      <td>30400.0</td>\n",
       "      <td>1</td>\n",
       "      <td>0</td>\n",
       "      <td>0</td>\n",
       "    </tr>\n",
       "    <tr>\n",
       "      <th>2457</th>\n",
       "      <td>0</td>\n",
       "      <td>41</td>\n",
       "      <td>42400.0</td>\n",
       "      <td>1</td>\n",
       "      <td>0</td>\n",
       "      <td>0</td>\n",
       "    </tr>\n",
       "    <tr>\n",
       "      <th>4324</th>\n",
       "      <td>1</td>\n",
       "      <td>28</td>\n",
       "      <td>33100.0</td>\n",
       "      <td>0</td>\n",
       "      <td>0</td>\n",
       "      <td>0</td>\n",
       "    </tr>\n",
       "    <tr>\n",
       "      <th>2369</th>\n",
       "      <td>1</td>\n",
       "      <td>30</td>\n",
       "      <td>55400.0</td>\n",
       "      <td>1</td>\n",
       "      <td>0</td>\n",
       "      <td>0</td>\n",
       "    </tr>\n",
       "    <tr>\n",
       "      <th>2833</th>\n",
       "      <td>0</td>\n",
       "      <td>27</td>\n",
       "      <td>46500.0</td>\n",
       "      <td>1</td>\n",
       "      <td>0</td>\n",
       "      <td>0</td>\n",
       "    </tr>\n",
       "    <tr>\n",
       "      <th>82</th>\n",
       "      <td>0</td>\n",
       "      <td>31</td>\n",
       "      <td>37400.0</td>\n",
       "      <td>2</td>\n",
       "      <td>0</td>\n",
       "      <td>0</td>\n",
       "    </tr>\n",
       "    <tr>\n",
       "      <th>2818</th>\n",
       "      <td>0</td>\n",
       "      <td>52</td>\n",
       "      <td>40700.0</td>\n",
       "      <td>0</td>\n",
       "      <td>2</td>\n",
       "      <td>1</td>\n",
       "    </tr>\n",
       "  </tbody>\n",
       "</table>\n",
       "</div>"
      ],
      "text/plain": [
       "      gender  age   income  family_members  insurance_benefits  \\\n",
       "4726       1   19  31700.0               1                   0   \n",
       "1935       0   45  43600.0               1                   1   \n",
       "2681       0   29  37600.0               0                   0   \n",
       "45         0   24  30400.0               1                   0   \n",
       "2457       0   41  42400.0               1                   0   \n",
       "4324       1   28  33100.0               0                   0   \n",
       "2369       1   30  55400.0               1                   0   \n",
       "2833       0   27  46500.0               1                   0   \n",
       "82         0   31  37400.0               2                   0   \n",
       "2818       0   52  40700.0               0                   2   \n",
       "\n",
       "      insurance_benefits_received  \n",
       "4726                            0  \n",
       "1935                            1  \n",
       "2681                            0  \n",
       "45                              0  \n",
       "2457                            0  \n",
       "4324                            0  \n",
       "2369                            0  \n",
       "2833                            0  \n",
       "82                              0  \n",
       "2818                            1  "
      ]
     },
     "execution_count": 39,
     "metadata": {},
     "output_type": "execute_result"
    }
   ],
   "source": [
    "df.sample(10)"
   ]
  },
  {
   "cell_type": "code",
   "execution_count": 29,
   "metadata": {},
   "outputs": [
    {
     "name": "stdout",
     "output_type": "stream",
     "text": [
      "0    4436\n",
      "1     564\n",
      "Name: insurance_benefits_received, dtype: int64\n"
     ]
    }
   ],
   "source": [
    "# verifique o desequilíbrio de classe com value_counts()\n",
    "print(df[\"insurance_benefits_received\"].value_counts())"
   ]
  },
  {
   "cell_type": "code",
   "execution_count": 40,
   "metadata": {},
   "outputs": [],
   "source": [
    "def eval_classifier(y_true, y_pred):\n",
    "    \n",
    "    f1_score = sklearn.metrics.f1_score(y_true, y_pred)\n",
    "    print(f'F1: {f1_score:.2f}')\n",
    "    \n",
    "# se você tiver um problema com a linha a seguir, reinicie o kernel e execute o caderno novamente\n",
    "    cm = sklearn.metrics.confusion_matrix(y_true, y_pred, normalize='all')\n",
    "    print('Matriz de Confusão')\n",
    "    print(cm)"
   ]
  },
  {
   "cell_type": "code",
   "execution_count": 41,
   "metadata": {},
   "outputs": [],
   "source": [
    "# gerando saída de um modelo aleatório\n",
    "\n",
    "def rnd_model_predict(P, size, seed=42):\n",
    "\n",
    "    rng = np.random.default_rng(seed=seed)\n",
    "    return rng.binomial(n=1, p=P, size=size)"
   ]
  },
  {
   "cell_type": "code",
   "execution_count": 42,
   "metadata": {},
   "outputs": [
    {
     "name": "stdout",
     "output_type": "stream",
     "text": [
      "A probabilidade: 0.00\n",
      "F1: 0.00\n",
      "Matriz de Confusão\n",
      "[[0.8872 0.    ]\n",
      " [0.1128 0.    ]]\n",
      "\n",
      "A probabilidade: 0.11\n",
      "F1: 0.12\n",
      "Matriz de Confusão\n",
      "[[0.7914 0.0958]\n",
      " [0.0994 0.0134]]\n",
      "\n",
      "A probabilidade: 0.50\n",
      "F1: 0.20\n",
      "Matriz de Confusão\n",
      "[[0.456  0.4312]\n",
      " [0.053  0.0598]]\n",
      "\n",
      "A probabilidade: 1.00\n",
      "F1: 0.20\n",
      "Matriz de Confusão\n",
      "[[0.     0.8872]\n",
      " [0.     0.1128]]\n",
      "\n"
     ]
    }
   ],
   "source": [
    "for P in [0, df['insurance_benefits_received'].sum() / len(df), 0.5, 1]:\n",
    "\n",
    "    print(f'A probabilidade: {P:.2f}')\n",
    "    y_pred_rnd = rnd_model_predict(P,df.shape[0])\n",
    "        \n",
    "    eval_classifier(df['insurance_benefits_received'], y_pred_rnd)\n",
    "    \n",
    "    print()"
   ]
  },
  {
   "cell_type": "code",
   "execution_count": 49,
   "metadata": {
    "scrolled": true
   },
   "outputs": [
    {
     "name": "stdout",
     "output_type": "stream",
     "text": [
      "K: 1\n",
      "F1: 0.61\n",
      "Matriz de Confusão\n",
      "[[0.87       0.02133333]\n",
      " [0.052      0.05666667]]\n",
      "\n",
      "K: 2\n",
      "F1: 0.41\n",
      "Matriz de Confusão\n",
      "[[0.88733333 0.004     ]\n",
      " [0.08       0.02866667]]\n",
      "\n",
      "K: 3\n",
      "F1: 0.41\n",
      "Matriz de Confusão\n",
      "[[0.88       0.01133333]\n",
      " [0.078      0.03066667]]\n",
      "\n",
      "K: 4\n",
      "F1: 0.28\n",
      "Matriz de Confusão\n",
      "[[0.88866667 0.00266667]\n",
      " [0.09066667 0.018     ]]\n",
      "\n",
      "K: 5\n",
      "F1: 0.27\n",
      "Matriz de Confusão\n",
      "[[0.88533333 0.006     ]\n",
      " [0.09066667 0.018     ]]\n",
      "\n",
      "K: 6\n",
      "F1: 0.11\n",
      "Matriz de Confusão\n",
      "[[0.89       0.00133333]\n",
      " [0.102      0.00666667]]\n",
      "\n",
      "K: 7\n",
      "F1: 0.11\n",
      "Matriz de Confusão\n",
      "[[0.88866667 0.00266667]\n",
      " [0.102      0.00666667]]\n",
      "\n",
      "K: 8\n",
      "F1: 0.07\n",
      "Matriz de Confusão\n",
      "[[0.89133333 0.        ]\n",
      " [0.10466667 0.004     ]]\n",
      "\n",
      "K: 9\n",
      "F1: 0.08\n",
      "Matriz de Confusão\n",
      "[[0.89133333 0.        ]\n",
      " [0.104      0.00466667]]\n",
      "\n",
      "K: 10\n",
      "F1: 0.00\n",
      "Matriz de Confusão\n",
      "[[0.89133333 0.        ]\n",
      " [0.10866667 0.        ]]\n",
      "\n"
     ]
    }
   ],
   "source": [
    "from sklearn.neighbors import KNeighborsClassifier\n",
    "\n",
    "# rodando o modelo com dados originais, não escalonados\n",
    "features = df[feature_names]\n",
    "target = df[\"insurance_benefits_received\"]\n",
    "\n",
    "features_train, features_valid, target_train, target_valid = train_test_split(features,target,test_size=.3, random_state=12345)\n",
    "\n",
    "for k in range(1, 11):\n",
    "    print(f\"K: {k}\")\n",
    "    model = KNeighborsClassifier(n_neighbors=k)\n",
    "    model.fit(features_train,target_train)\n",
    "    predictions = model.predict(features_valid)\n",
    "    eval_classifier(target_valid,predictions)\n",
    "    print()"
   ]
  },
  {
   "cell_type": "code",
   "execution_count": 50,
   "metadata": {
    "scrolled": true
   },
   "outputs": [
    {
     "name": "stdout",
     "output_type": "stream",
     "text": [
      "K: 1\n",
      "F1: 0.97\n",
      "Matriz de Confusão\n",
      "[[0.88866667 0.00266667]\n",
      " [0.00466667 0.104     ]]\n",
      "\n",
      "K: 2\n",
      "F1: 0.93\n",
      "Matriz de Confusão\n",
      "[[8.90666667e-01 6.66666667e-04]\n",
      " [1.40000000e-02 9.46666667e-02]]\n",
      "\n",
      "K: 3\n",
      "F1: 0.95\n",
      "Matriz de Confusão\n",
      "[[0.88933333 0.002     ]\n",
      " [0.00866667 0.1       ]]\n",
      "\n",
      "K: 4\n",
      "F1: 0.91\n",
      "Matriz de Confusão\n",
      "[[0.88933333 0.002     ]\n",
      " [0.01666667 0.092     ]]\n",
      "\n",
      "K: 5\n",
      "F1: 0.92\n",
      "Matriz de Confusão\n",
      "[[0.88666667 0.00466667]\n",
      " [0.01133333 0.09733333]]\n",
      "\n",
      "K: 6\n",
      "F1: 0.90\n",
      "Matriz de Confusão\n",
      "[[0.89       0.00133333]\n",
      " [0.018      0.09066667]]\n",
      "\n",
      "K: 7\n",
      "F1: 0.92\n",
      "Matriz de Confusão\n",
      "[[0.88733333 0.004     ]\n",
      " [0.01266667 0.096     ]]\n",
      "\n",
      "K: 8\n",
      "F1: 0.90\n",
      "Matriz de Confusão\n",
      "[[0.88866667 0.00266667]\n",
      " [0.01733333 0.09133333]]\n",
      "\n",
      "K: 9\n",
      "F1: 0.92\n",
      "Matriz de Confusão\n",
      "[[0.88866667 0.00266667]\n",
      " [0.01466667 0.094     ]]\n",
      "\n",
      "K: 10\n",
      "F1: 0.88\n",
      "Matriz de Confusão\n",
      "[[0.88866667 0.00266667]\n",
      " [0.02133333 0.08733333]]\n",
      "\n"
     ]
    }
   ],
   "source": [
    "# rodando o modelo com dados escalonados\n",
    "features = df_scaled[feature_names]\n",
    "target = df[\"insurance_benefits_received\"]\n",
    "\n",
    "features_train, features_valid, target_train, target_valid = train_test_split(features,target,test_size=.3, random_state=12345)\n",
    "\n",
    "for k in range(1, 11):\n",
    "    print(f\"K: {k}\")\n",
    "    model = KNeighborsClassifier(n_neighbors=k)\n",
    "    model.fit(features_train,target_train)\n",
    "    predictions = model.predict(features_valid)\n",
    "    eval_classifier(target_valid,predictions)\n",
    "    print()"
   ]
  },
  {
   "cell_type": "markdown",
   "metadata": {},
   "source": [
    "Conclusion: The model achieves a better F1-score when using scaled data, with k=1 resulting in an F1-score of 0.97 and k=3 yielding 0.95. For non-scaled data, the best F1-score achieved was 0.61 with k=1."
   ]
  },
  {
   "cell_type": "markdown",
   "metadata": {},
   "source": [
    "# Task 3 - Regression"
   ]
  },
  {
   "cell_type": "code",
   "execution_count": 63,
   "metadata": {},
   "outputs": [],
   "source": [
    "class MyLinearRegression:\n",
    "    \n",
    "    def __init__(self):\n",
    "        \n",
    "        self.weights = None\n",
    "    \n",
    "    def fit(self, X, y):\n",
    "        \n",
    "        # somando as unidades\n",
    "        X2 = np.append(np.ones([len(X), 1]), X, axis=1)\n",
    "        self.weights = np.linalg.inv(X2.T.dot(X2)).dot(X2.T).dot(y) # w é o weight nas equações acima\n",
    "        \n",
    "    def predict(self, X):\n",
    "        \n",
    "        # somando as unidades\n",
    "        X2 = np.append(np.ones([len(X),1]),X,axis=1) # modificando para incluir parâmetro b da equação linear\n",
    "        y_pred = X2 @ self.weights\n",
    "        \n",
    "        return y_pred"
   ]
  },
  {
   "cell_type": "code",
   "execution_count": 64,
   "metadata": {},
   "outputs": [],
   "source": [
    "import math\n",
    "\n",
    "def eval_regressor(y_true, y_pred):\n",
    "    \n",
    "    rmse = math.sqrt(sklearn.metrics.mean_squared_error(y_true, y_pred))\n",
    "    print(f'REQM: {rmse:.2f}')\n",
    "    \n",
    "    r2_score = math.sqrt(sklearn.metrics.r2_score(y_true, y_pred))\n",
    "    print(f'R2: {r2_score:.2f}')    "
   ]
  },
  {
   "cell_type": "code",
   "execution_count": 65,
   "metadata": {},
   "outputs": [
    {
     "name": "stdout",
     "output_type": "stream",
     "text": [
      "[-9.43539012e-01  3.57495491e-02  1.64272726e-02 -2.60743659e-07\n",
      " -1.16902127e-02]\n",
      "REQM: 0.34\n",
      "R2: 0.66\n"
     ]
    }
   ],
   "source": [
    "X = df[['age', 'gender', 'income', 'family_members']].to_numpy()\n",
    "y = df['insurance_benefits'].to_numpy()\n",
    "\n",
    "X_train, X_test, y_train, y_test = train_test_split(X, y, test_size=0.3, random_state=12345)\n",
    "\n",
    "lr = MyLinearRegression()\n",
    "\n",
    "lr.fit(X_train, y_train)\n",
    "print(lr.weights)\n",
    "\n",
    "y_test_pred = lr.predict(X_test)\n",
    "eval_regressor(y_test, y_test_pred)"
   ]
  },
  {
   "cell_type": "markdown",
   "metadata": {},
   "source": [
    "Conclusion: The RMSE of our regression model is 0.34, with an R² score of 0.66."
   ]
  },
  {
   "cell_type": "markdown",
   "metadata": {},
   "source": [
    "# Task 4 - Data Obfuscation"
   ]
  },
  {
   "cell_type": "code",
   "execution_count": 66,
   "metadata": {},
   "outputs": [],
   "source": [
    "personal_info_column_list = ['gender', 'age', 'income', 'family_members']\n",
    "df_pn = df[personal_info_column_list]"
   ]
  },
  {
   "cell_type": "code",
   "execution_count": 67,
   "metadata": {},
   "outputs": [],
   "source": [
    "X = df_pn.to_numpy()"
   ]
  },
  {
   "cell_type": "markdown",
   "metadata": {},
   "source": [
    "Generating a random matrix"
   ]
  },
  {
   "cell_type": "code",
   "execution_count": 68,
   "metadata": {},
   "outputs": [],
   "source": [
    "rng = np.random.default_rng(seed=42)\n",
    "P = rng.random(size=(X.shape[1], X.shape[1]))"
   ]
  },
  {
   "cell_type": "markdown",
   "metadata": {},
   "source": [
    "Checking if matrix can be inverted"
   ]
  },
  {
   "cell_type": "code",
   "execution_count": 69,
   "metadata": {},
   "outputs": [
    {
     "data": {
      "text/plain": [
       "0.24339135998015463"
      ]
     },
     "execution_count": 69,
     "metadata": {},
     "output_type": "execute_result"
    }
   ],
   "source": [
    "# verificando se é invertível (determinante != 0)\n",
    "np.linalg.det(P)"
   ]
  },
  {
   "cell_type": "code",
   "execution_count": 70,
   "metadata": {},
   "outputs": [],
   "source": [
    "# Multiplicando a matriz invertida por P para ofuscar os dados\n",
    "X_inv = X.dot(P)"
   ]
  },
  {
   "cell_type": "code",
   "execution_count": 71,
   "metadata": {},
   "outputs": [],
   "source": [
    "# convertendo o array de volta para dataframe\n",
    "df_X_inv = pd.DataFrame(X_inv,columns=personal_info_column_list)"
   ]
  },
  {
   "cell_type": "code",
   "execution_count": 73,
   "metadata": {
    "scrolled": true
   },
   "outputs": [
    {
     "data": {
      "text/html": [
       "<div>\n",
       "<style scoped>\n",
       "    .dataframe tbody tr th:only-of-type {\n",
       "        vertical-align: middle;\n",
       "    }\n",
       "\n",
       "    .dataframe tbody tr th {\n",
       "        vertical-align: top;\n",
       "    }\n",
       "\n",
       "    .dataframe thead th {\n",
       "        text-align: right;\n",
       "    }\n",
       "</style>\n",
       "<table border=\"1\" class=\"dataframe\">\n",
       "  <thead>\n",
       "    <tr style=\"text-align: right;\">\n",
       "      <th></th>\n",
       "      <th>age</th>\n",
       "      <th>income</th>\n",
       "      <th>age</th>\n",
       "      <th>income</th>\n",
       "    </tr>\n",
       "  </thead>\n",
       "  <tbody>\n",
       "    <tr>\n",
       "      <th>3183</th>\n",
       "      <td>33</td>\n",
       "      <td>39000.0</td>\n",
       "      <td>17600.538162</td>\n",
       "      <td>14488.014212</td>\n",
       "    </tr>\n",
       "    <tr>\n",
       "      <th>2304</th>\n",
       "      <td>39</td>\n",
       "      <td>51500.0</td>\n",
       "      <td>23233.747835</td>\n",
       "      <td>19126.226111</td>\n",
       "    </tr>\n",
       "    <tr>\n",
       "      <th>3573</th>\n",
       "      <td>30</td>\n",
       "      <td>35800.0</td>\n",
       "      <td>16154.346887</td>\n",
       "      <td>13298.705471</td>\n",
       "    </tr>\n",
       "    <tr>\n",
       "      <th>3985</th>\n",
       "      <td>33</td>\n",
       "      <td>39100.0</td>\n",
       "      <td>17645.192873</td>\n",
       "      <td>14525.509198</td>\n",
       "    </tr>\n",
       "    <tr>\n",
       "      <th>4537</th>\n",
       "      <td>22</td>\n",
       "      <td>29800.0</td>\n",
       "      <td>13445.049043</td>\n",
       "      <td>11068.271622</td>\n",
       "    </tr>\n",
       "    <tr>\n",
       "      <th>4193</th>\n",
       "      <td>26</td>\n",
       "      <td>38700.0</td>\n",
       "      <td>17455.301978</td>\n",
       "      <td>14369.673170</td>\n",
       "    </tr>\n",
       "    <tr>\n",
       "      <th>3529</th>\n",
       "      <td>51</td>\n",
       "      <td>42400.0</td>\n",
       "      <td>19146.559385</td>\n",
       "      <td>15761.512950</td>\n",
       "    </tr>\n",
       "    <tr>\n",
       "      <th>1710</th>\n",
       "      <td>22</td>\n",
       "      <td>50900.0</td>\n",
       "      <td>22946.930692</td>\n",
       "      <td>18890.807921</td>\n",
       "    </tr>\n",
       "    <tr>\n",
       "      <th>4119</th>\n",
       "      <td>35</td>\n",
       "      <td>56400.0</td>\n",
       "      <td>25436.736441</td>\n",
       "      <td>20940.091870</td>\n",
       "    </tr>\n",
       "    <tr>\n",
       "      <th>1743</th>\n",
       "      <td>29</td>\n",
       "      <td>31700.0</td>\n",
       "      <td>14305.527279</td>\n",
       "      <td>11776.370420</td>\n",
       "    </tr>\n",
       "  </tbody>\n",
       "</table>\n",
       "</div>"
      ],
      "text/plain": [
       "      age   income           age        income\n",
       "3183   33  39000.0  17600.538162  14488.014212\n",
       "2304   39  51500.0  23233.747835  19126.226111\n",
       "3573   30  35800.0  16154.346887  13298.705471\n",
       "3985   33  39100.0  17645.192873  14525.509198\n",
       "4537   22  29800.0  13445.049043  11068.271622\n",
       "4193   26  38700.0  17455.301978  14369.673170\n",
       "3529   51  42400.0  19146.559385  15761.512950\n",
       "1710   22  50900.0  22946.930692  18890.807921\n",
       "4119   35  56400.0  25436.736441  20940.091870\n",
       "1743   29  31700.0  14305.527279  11776.370420"
      ]
     },
     "metadata": {},
     "output_type": "display_data"
    }
   ],
   "source": [
    "# juntando os data frames para ver como ficou\n",
    "display(pd.concat([df_pn[[\"age\",\"income\"]],df_X_inv[[\"age\",\"income\"]]],axis=1).sample(10))"
   ]
  },
  {
   "cell_type": "markdown",
   "metadata": {},
   "source": [
    "Conclusion: After obfuscation we can't identify customer age or income"
   ]
  },
  {
   "cell_type": "markdown",
   "metadata": {},
   "source": [
    "Reversing the procedure to retrieve customer data "
   ]
  },
  {
   "cell_type": "code",
   "execution_count": 74,
   "metadata": {},
   "outputs": [],
   "source": [
    "# calculando a inversa de P\n",
    "P_inv = np.linalg.inv(P)"
   ]
  },
  {
   "cell_type": "code",
   "execution_count": 76,
   "metadata": {},
   "outputs": [],
   "source": [
    "# multiplicando a invesa de P pela inversa de X para retornar aos valores originais\n",
    "X_original = X_inv @ P_inv"
   ]
  },
  {
   "cell_type": "code",
   "execution_count": 78,
   "metadata": {},
   "outputs": [],
   "source": [
    "# convertendo o array de volta para dataframe\n",
    "df_orig = pd.DataFrame(X_original,columns=personal_info_column_list)"
   ]
  },
  {
   "cell_type": "code",
   "execution_count": 80,
   "metadata": {},
   "outputs": [
    {
     "data": {
      "text/html": [
       "<div>\n",
       "<style scoped>\n",
       "    .dataframe tbody tr th:only-of-type {\n",
       "        vertical-align: middle;\n",
       "    }\n",
       "\n",
       "    .dataframe tbody tr th {\n",
       "        vertical-align: top;\n",
       "    }\n",
       "\n",
       "    .dataframe thead th {\n",
       "        text-align: right;\n",
       "    }\n",
       "</style>\n",
       "<table border=\"1\" class=\"dataframe\">\n",
       "  <thead>\n",
       "    <tr style=\"text-align: right;\">\n",
       "      <th></th>\n",
       "      <th>age</th>\n",
       "      <th>income</th>\n",
       "      <th>age</th>\n",
       "      <th>income</th>\n",
       "    </tr>\n",
       "  </thead>\n",
       "  <tbody>\n",
       "    <tr>\n",
       "      <th>1570</th>\n",
       "      <td>37.0</td>\n",
       "      <td>22800.0</td>\n",
       "      <td>37</td>\n",
       "      <td>22800.0</td>\n",
       "    </tr>\n",
       "    <tr>\n",
       "      <th>1154</th>\n",
       "      <td>36.0</td>\n",
       "      <td>30600.0</td>\n",
       "      <td>36</td>\n",
       "      <td>30600.0</td>\n",
       "    </tr>\n",
       "    <tr>\n",
       "      <th>3376</th>\n",
       "      <td>26.0</td>\n",
       "      <td>31100.0</td>\n",
       "      <td>26</td>\n",
       "      <td>31100.0</td>\n",
       "    </tr>\n",
       "    <tr>\n",
       "      <th>1312</th>\n",
       "      <td>37.0</td>\n",
       "      <td>27000.0</td>\n",
       "      <td>37</td>\n",
       "      <td>27000.0</td>\n",
       "    </tr>\n",
       "    <tr>\n",
       "      <th>4040</th>\n",
       "      <td>26.0</td>\n",
       "      <td>29800.0</td>\n",
       "      <td>26</td>\n",
       "      <td>29800.0</td>\n",
       "    </tr>\n",
       "    <tr>\n",
       "      <th>2898</th>\n",
       "      <td>41.0</td>\n",
       "      <td>58400.0</td>\n",
       "      <td>41</td>\n",
       "      <td>58400.0</td>\n",
       "    </tr>\n",
       "    <tr>\n",
       "      <th>2682</th>\n",
       "      <td>38.0</td>\n",
       "      <td>43000.0</td>\n",
       "      <td>38</td>\n",
       "      <td>43000.0</td>\n",
       "    </tr>\n",
       "    <tr>\n",
       "      <th>1755</th>\n",
       "      <td>31.0</td>\n",
       "      <td>42100.0</td>\n",
       "      <td>31</td>\n",
       "      <td>42100.0</td>\n",
       "    </tr>\n",
       "    <tr>\n",
       "      <th>4787</th>\n",
       "      <td>19.0</td>\n",
       "      <td>33000.0</td>\n",
       "      <td>19</td>\n",
       "      <td>33000.0</td>\n",
       "    </tr>\n",
       "    <tr>\n",
       "      <th>1615</th>\n",
       "      <td>18.0</td>\n",
       "      <td>41200.0</td>\n",
       "      <td>18</td>\n",
       "      <td>41200.0</td>\n",
       "    </tr>\n",
       "  </tbody>\n",
       "</table>\n",
       "</div>"
      ],
      "text/plain": [
       "       age   income  age   income\n",
       "1570  37.0  22800.0   37  22800.0\n",
       "1154  36.0  30600.0   36  30600.0\n",
       "3376  26.0  31100.0   26  31100.0\n",
       "1312  37.0  27000.0   37  27000.0\n",
       "4040  26.0  29800.0   26  29800.0\n",
       "2898  41.0  58400.0   41  58400.0\n",
       "2682  38.0  43000.0   38  43000.0\n",
       "1755  31.0  42100.0   31  42100.0\n",
       "4787  19.0  33000.0   19  33000.0\n",
       "1615  18.0  41200.0   18  41200.0"
      ]
     },
     "execution_count": 80,
     "metadata": {},
     "output_type": "execute_result"
    }
   ],
   "source": [
    "# juntando os data frames para ver se ficou igual\n",
    "pd.concat([df_orig[[\"age\",\"income\"]],df_pn[[\"age\",\"income\"]]],axis=1).sample(10)"
   ]
  },
  {
   "cell_type": "code",
   "execution_count": 82,
   "metadata": {},
   "outputs": [
    {
     "data": {
      "text/html": [
       "<div>\n",
       "<style scoped>\n",
       "    .dataframe tbody tr th:only-of-type {\n",
       "        vertical-align: middle;\n",
       "    }\n",
       "\n",
       "    .dataframe tbody tr th {\n",
       "        vertical-align: top;\n",
       "    }\n",
       "\n",
       "    .dataframe thead th {\n",
       "        text-align: right;\n",
       "    }\n",
       "</style>\n",
       "<table border=\"1\" class=\"dataframe\">\n",
       "  <thead>\n",
       "    <tr style=\"text-align: right;\">\n",
       "      <th></th>\n",
       "      <th>gender</th>\n",
       "      <th>age</th>\n",
       "      <th>income</th>\n",
       "      <th>family_members</th>\n",
       "      <th>gender</th>\n",
       "      <th>age</th>\n",
       "      <th>income</th>\n",
       "      <th>family_members</th>\n",
       "      <th>gender</th>\n",
       "      <th>age</th>\n",
       "      <th>income</th>\n",
       "      <th>family_members</th>\n",
       "    </tr>\n",
       "  </thead>\n",
       "  <tbody>\n",
       "    <tr>\n",
       "      <th>0</th>\n",
       "      <td>1</td>\n",
       "      <td>41</td>\n",
       "      <td>49600</td>\n",
       "      <td>1</td>\n",
       "      <td>6359</td>\n",
       "      <td>22380</td>\n",
       "      <td>18424</td>\n",
       "      <td>46000</td>\n",
       "      <td>1</td>\n",
       "      <td>41</td>\n",
       "      <td>49600</td>\n",
       "      <td>1</td>\n",
       "    </tr>\n",
       "    <tr>\n",
       "      <th>1</th>\n",
       "      <td>0</td>\n",
       "      <td>46</td>\n",
       "      <td>38000</td>\n",
       "      <td>1</td>\n",
       "      <td>4873</td>\n",
       "      <td>17160</td>\n",
       "      <td>14125</td>\n",
       "      <td>35253</td>\n",
       "      <td>0</td>\n",
       "      <td>46</td>\n",
       "      <td>38000</td>\n",
       "      <td>1</td>\n",
       "    </tr>\n",
       "    <tr>\n",
       "      <th>2</th>\n",
       "      <td>0</td>\n",
       "      <td>29</td>\n",
       "      <td>21000</td>\n",
       "      <td>0</td>\n",
       "      <td>2693</td>\n",
       "      <td>9486</td>\n",
       "      <td>7808</td>\n",
       "      <td>19484</td>\n",
       "      <td>0</td>\n",
       "      <td>29</td>\n",
       "      <td>21000</td>\n",
       "      <td>0</td>\n",
       "    </tr>\n",
       "    <tr>\n",
       "      <th>3</th>\n",
       "      <td>0</td>\n",
       "      <td>21</td>\n",
       "      <td>41700</td>\n",
       "      <td>2</td>\n",
       "      <td>5345</td>\n",
       "      <td>18803</td>\n",
       "      <td>15479</td>\n",
       "      <td>38663</td>\n",
       "      <td>0</td>\n",
       "      <td>21</td>\n",
       "      <td>41700</td>\n",
       "      <td>2</td>\n",
       "    </tr>\n",
       "    <tr>\n",
       "      <th>4</th>\n",
       "      <td>1</td>\n",
       "      <td>28</td>\n",
       "      <td>26100</td>\n",
       "      <td>0</td>\n",
       "      <td>3347</td>\n",
       "      <td>11782</td>\n",
       "      <td>9700</td>\n",
       "      <td>24211</td>\n",
       "      <td>1</td>\n",
       "      <td>28</td>\n",
       "      <td>26100</td>\n",
       "      <td>0</td>\n",
       "    </tr>\n",
       "  </tbody>\n",
       "</table>\n",
       "</div>"
      ],
      "text/plain": [
       "   gender  age  income  family_members  gender    age  income  family_members  \\\n",
       "0       1   41   49600               1    6359  22380   18424           46000   \n",
       "1       0   46   38000               1    4873  17160   14125           35253   \n",
       "2       0   29   21000               0    2693   9486    7808           19484   \n",
       "3       0   21   41700               2    5345  18803   15479           38663   \n",
       "4       1   28   26100               0    3347  11782    9700           24211   \n",
       "\n",
       "   gender  age  income  family_members  \n",
       "0       1   41   49600               1  \n",
       "1       0   46   38000               1  \n",
       "2       0   29   21000               0  \n",
       "3       0   21   41700               2  \n",
       "4       1   28   26100               0  "
      ]
     },
     "execution_count": 82,
     "metadata": {},
     "output_type": "execute_result"
    }
   ],
   "source": [
    "pd.concat([df_pn,df_X_inv,df_orig],axis=1).head().round(2).astype('int')"
   ]
  },
  {
   "cell_type": "markdown",
   "metadata": {},
   "source": [
    "## Testing linear regression with data obfuscation"
   ]
  },
  {
   "cell_type": "code",
   "execution_count": 92,
   "metadata": {},
   "outputs": [
    {
     "name": "stdout",
     "output_type": "stream",
     "text": [
      "REQM: 0.23\n",
      "R2: 0.66\n"
     ]
    }
   ],
   "source": [
    "# trazendo de volta o modelo de regressão nos dados nao-ofuscados\n",
    "X = df[['age', 'gender', 'income', 'family_members']].to_numpy()\n",
    "y = df['insurance_benefits_received'].to_numpy()\n",
    "\n",
    "X_train, X_test, y_train, y_test = train_test_split(X, y, test_size=0.3, random_state=12345)\n",
    "\n",
    "lr = MyLinearRegression()\n",
    "\n",
    "lr.fit(X_train, y_train)\n",
    "\n",
    "y_test_pred = lr.predict(X_test)\n",
    "eval_regressor(y_test, y_test_pred)"
   ]
  },
  {
   "cell_type": "code",
   "execution_count": 93,
   "metadata": {},
   "outputs": [],
   "source": [
    "# gerando a matriz P aleatória invertível\n",
    "rng = np.random.default_rng(seed=42)\n",
    "P = rng.random(size=(X.shape[1], X.shape[1]))"
   ]
  },
  {
   "cell_type": "code",
   "execution_count": 94,
   "metadata": {},
   "outputs": [],
   "source": [
    "# gerando nova matriz de características e alterando conjunto de treino e teste para X\n",
    "X_1 = X @ P\n",
    "X_train_1 = X_train @ P\n",
    "X_test_1 = X_test @ P"
   ]
  },
  {
   "cell_type": "code",
   "execution_count": 95,
   "metadata": {},
   "outputs": [
    {
     "name": "stdout",
     "output_type": "stream",
     "text": [
      "REQM: 0.23\n",
      "R2: 0.66\n"
     ]
    }
   ],
   "source": [
    "# rodando regressão para dados ofuscados\n",
    "\n",
    "from sklearn.linear_model import LinearRegression\n",
    "lr = LinearRegression()\n",
    "lr.fit(X_train_1,y_train)\n",
    "y_test_pred = lr.predict(X_test_1)\n",
    "eval_regressor(y_test,y_test_pred)"
   ]
  },
  {
   "cell_type": "markdown",
   "metadata": {},
   "source": [
    "Conclusion: The RMSE and R² scores are the same for both the normal and obfuscated data, indicating that data obfuscation does not alter the regression analysis."
   ]
  }
 ],
 "metadata": {
  "ExecuteTimeLog": [
   {
    "duration": 319,
    "start_time": "2024-07-22T16:23:28.041Z"
   },
   {
    "duration": 4282,
    "start_time": "2024-07-22T16:23:49.127Z"
   },
   {
    "duration": 5157,
    "start_time": "2024-07-22T16:23:53.413Z"
   },
   {
    "duration": 15,
    "start_time": "2024-07-22T16:23:58.573Z"
   },
   {
    "duration": 8,
    "start_time": "2024-07-22T16:23:58.590Z"
   },
   {
    "duration": 35,
    "start_time": "2024-07-22T16:23:58.604Z"
   },
   {
    "duration": 15,
    "start_time": "2024-07-22T16:23:58.642Z"
   },
   {
    "duration": 5,
    "start_time": "2024-07-22T16:23:58.661Z"
   },
   {
    "duration": 4,
    "start_time": "2024-07-22T16:23:58.669Z"
   },
   {
    "duration": 4,
    "start_time": "2024-07-22T16:23:58.676Z"
   },
   {
    "duration": 4957,
    "start_time": "2024-07-22T16:23:58.730Z"
   },
   {
    "duration": 4,
    "start_time": "2024-07-22T16:24:03.690Z"
   },
   {
    "duration": 8,
    "start_time": "2024-07-22T16:24:03.697Z"
   },
   {
    "duration": 0,
    "start_time": "2024-07-22T16:24:03.710Z"
   },
   {
    "duration": 0,
    "start_time": "2024-07-22T16:24:03.711Z"
   },
   {
    "duration": 0,
    "start_time": "2024-07-22T16:24:03.714Z"
   },
   {
    "duration": 0,
    "start_time": "2024-07-22T16:24:03.807Z"
   },
   {
    "duration": 0,
    "start_time": "2024-07-22T16:24:03.810Z"
   },
   {
    "duration": 0,
    "start_time": "2024-07-22T16:24:03.812Z"
   },
   {
    "duration": 0,
    "start_time": "2024-07-22T16:24:03.814Z"
   },
   {
    "duration": 0,
    "start_time": "2024-07-22T16:24:03.831Z"
   },
   {
    "duration": 0,
    "start_time": "2024-07-22T16:24:03.834Z"
   },
   {
    "duration": 0,
    "start_time": "2024-07-22T16:24:03.836Z"
   },
   {
    "duration": 0,
    "start_time": "2024-07-22T16:24:03.837Z"
   },
   {
    "duration": 0,
    "start_time": "2024-07-22T16:24:03.839Z"
   },
   {
    "duration": 0,
    "start_time": "2024-07-22T16:24:03.842Z"
   },
   {
    "duration": 14,
    "start_time": "2024-07-22T16:24:09.404Z"
   },
   {
    "duration": 30,
    "start_time": "2024-07-22T16:24:24.391Z"
   },
   {
    "duration": 7,
    "start_time": "2024-07-22T16:48:12.960Z"
   },
   {
    "duration": 15,
    "start_time": "2024-07-22T16:48:25.760Z"
   },
   {
    "duration": 22,
    "start_time": "2024-07-22T16:48:27.157Z"
   },
   {
    "duration": 7,
    "start_time": "2024-07-22T18:39:54.261Z"
   },
   {
    "duration": 7,
    "start_time": "2024-07-22T18:40:38.025Z"
   },
   {
    "duration": 7,
    "start_time": "2024-07-22T18:41:06.255Z"
   },
   {
    "duration": 8,
    "start_time": "2024-07-22T18:41:09.446Z"
   },
   {
    "duration": 698,
    "start_time": "2024-07-22T18:42:06.457Z"
   },
   {
    "duration": 7,
    "start_time": "2024-07-22T18:42:16.000Z"
   },
   {
    "duration": 14,
    "start_time": "2024-07-22T18:42:19.134Z"
   },
   {
    "duration": 98,
    "start_time": "2024-07-22T18:42:20.852Z"
   },
   {
    "duration": 80,
    "start_time": "2024-07-22T18:42:38.885Z"
   },
   {
    "duration": 96,
    "start_time": "2024-07-22T18:43:08.738Z"
   },
   {
    "duration": 4182,
    "start_time": "2024-07-22T18:44:41.926Z"
   },
   {
    "duration": 1668,
    "start_time": "2024-07-22T18:44:46.111Z"
   },
   {
    "duration": 12,
    "start_time": "2024-07-22T18:44:47.782Z"
   },
   {
    "duration": 6,
    "start_time": "2024-07-22T18:44:47.797Z"
   },
   {
    "duration": 40,
    "start_time": "2024-07-22T18:44:47.807Z"
   },
   {
    "duration": 15,
    "start_time": "2024-07-22T18:44:47.850Z"
   },
   {
    "duration": 5,
    "start_time": "2024-07-22T18:44:47.868Z"
   },
   {
    "duration": 14,
    "start_time": "2024-07-22T18:44:47.876Z"
   },
   {
    "duration": 4,
    "start_time": "2024-07-22T18:44:47.932Z"
   },
   {
    "duration": 28,
    "start_time": "2024-07-22T18:44:47.939Z"
   },
   {
    "duration": 4953,
    "start_time": "2024-07-22T18:44:47.970Z"
   },
   {
    "duration": 4,
    "start_time": "2024-07-22T18:44:52.926Z"
   },
   {
    "duration": 7,
    "start_time": "2024-07-22T18:44:52.933Z"
   },
   {
    "duration": 14,
    "start_time": "2024-07-22T18:44:52.945Z"
   },
   {
    "duration": 13,
    "start_time": "2024-07-22T18:44:52.962Z"
   },
   {
    "duration": 94,
    "start_time": "2024-07-22T18:44:56.538Z"
   },
   {
    "duration": 110,
    "start_time": "2024-07-22T18:45:17.283Z"
   },
   {
    "duration": 2438,
    "start_time": "2024-07-22T18:49:12.347Z"
   },
   {
    "duration": 136,
    "start_time": "2024-07-22T18:49:50.665Z"
   },
   {
    "duration": 6,
    "start_time": "2024-07-22T18:50:08.836Z"
   },
   {
    "duration": 10,
    "start_time": "2024-07-22T18:50:10.766Z"
   },
   {
    "duration": 8,
    "start_time": "2024-07-22T18:50:22.635Z"
   },
   {
    "duration": 17,
    "start_time": "2024-07-22T18:50:24.329Z"
   },
   {
    "duration": 5,
    "start_time": "2024-07-22T18:51:03.068Z"
   },
   {
    "duration": 10,
    "start_time": "2024-07-22T18:51:04.897Z"
   },
   {
    "duration": 13,
    "start_time": "2024-07-22T18:51:15.650Z"
   },
   {
    "duration": 5,
    "start_time": "2024-07-22T18:52:30.773Z"
   },
   {
    "duration": 16,
    "start_time": "2024-07-22T18:52:32.043Z"
   },
   {
    "duration": 6,
    "start_time": "2024-07-22T18:53:00.407Z"
   },
   {
    "duration": 5,
    "start_time": "2024-07-22T18:56:03.472Z"
   },
   {
    "duration": 14,
    "start_time": "2024-07-22T18:56:05.497Z"
   },
   {
    "duration": 13,
    "start_time": "2024-07-22T18:56:08.750Z"
   },
   {
    "duration": 13,
    "start_time": "2024-07-22T18:56:09.619Z"
   },
   {
    "duration": 13,
    "start_time": "2024-07-22T18:56:10.296Z"
   },
   {
    "duration": 12,
    "start_time": "2024-07-22T18:56:12.079Z"
   },
   {
    "duration": 14,
    "start_time": "2024-07-22T18:56:12.998Z"
   },
   {
    "duration": 13,
    "start_time": "2024-07-22T18:56:14.502Z"
   },
   {
    "duration": 5,
    "start_time": "2024-07-22T18:56:21.056Z"
   },
   {
    "duration": 13,
    "start_time": "2024-07-22T18:56:22.544Z"
   },
   {
    "duration": 4,
    "start_time": "2024-07-22T18:57:54.588Z"
   },
   {
    "duration": 5,
    "start_time": "2024-07-22T18:57:56.133Z"
   },
   {
    "duration": 36,
    "start_time": "2024-07-22T18:58:46.112Z"
   },
   {
    "duration": 126,
    "start_time": "2024-07-22T19:05:49.593Z"
   },
   {
    "duration": 82,
    "start_time": "2024-07-22T19:07:20.064Z"
   },
   {
    "duration": 479,
    "start_time": "2024-07-22T19:07:35.425Z"
   },
   {
    "duration": 116,
    "start_time": "2024-07-22T19:07:56.003Z"
   },
   {
    "duration": 705,
    "start_time": "2024-07-22T19:10:28.405Z"
   },
   {
    "duration": 797,
    "start_time": "2024-07-22T19:11:29.204Z"
   },
   {
    "duration": 804,
    "start_time": "2024-07-22T19:13:48.072Z"
   },
   {
    "duration": 953,
    "start_time": "2024-07-22T19:14:51.765Z"
   },
   {
    "duration": 11,
    "start_time": "2024-07-22T19:26:34.645Z"
   },
   {
    "duration": 4,
    "start_time": "2024-07-22T19:26:38.190Z"
   },
   {
    "duration": 164,
    "start_time": "2024-07-22T19:26:42.469Z"
   },
   {
    "duration": 5,
    "start_time": "2024-07-22T19:32:08.246Z"
   },
   {
    "duration": 124,
    "start_time": "2024-07-22T19:32:09.512Z"
   },
   {
    "duration": 7,
    "start_time": "2024-07-22T19:33:38.006Z"
   },
   {
    "duration": 5,
    "start_time": "2024-07-22T19:33:39.308Z"
   },
   {
    "duration": 123,
    "start_time": "2024-07-22T19:33:41.219Z"
   },
   {
    "duration": 87,
    "start_time": "2024-07-22T19:34:40.264Z"
   },
   {
    "duration": 7,
    "start_time": "2024-07-22T19:34:59.396Z"
   },
   {
    "duration": 4,
    "start_time": "2024-07-22T19:35:00.781Z"
   },
   {
    "duration": 131,
    "start_time": "2024-07-22T19:35:02.418Z"
   },
   {
    "duration": 7,
    "start_time": "2024-07-22T19:35:41.817Z"
   },
   {
    "duration": 4,
    "start_time": "2024-07-22T19:35:43.021Z"
   },
   {
    "duration": 13,
    "start_time": "2024-07-22T19:35:44.336Z"
   },
   {
    "duration": 5,
    "start_time": "2024-07-22T19:40:06.324Z"
   },
   {
    "duration": 4,
    "start_time": "2024-07-22T19:40:08.517Z"
   },
   {
    "duration": 5,
    "start_time": "2024-07-22T19:40:09.760Z"
   },
   {
    "duration": 6,
    "start_time": "2024-07-22T19:40:10.861Z"
   },
   {
    "duration": 4,
    "start_time": "2024-07-22T19:40:50.913Z"
   },
   {
    "duration": 4,
    "start_time": "2024-07-22T19:41:51.126Z"
   },
   {
    "duration": 16,
    "start_time": "2024-07-22T19:44:23.494Z"
   },
   {
    "duration": 16,
    "start_time": "2024-07-22T19:44:42.871Z"
   },
   {
    "duration": 4,
    "start_time": "2024-07-22T19:51:11.600Z"
   },
   {
    "duration": 22,
    "start_time": "2024-07-22T19:51:14.787Z"
   },
   {
    "duration": 4,
    "start_time": "2024-07-22T19:51:35.879Z"
   },
   {
    "duration": 5,
    "start_time": "2024-07-22T19:53:49.319Z"
   },
   {
    "duration": 4,
    "start_time": "2024-07-22T19:53:51.575Z"
   },
   {
    "duration": 18,
    "start_time": "2024-07-22T19:53:59.518Z"
   },
   {
    "duration": 20,
    "start_time": "2024-07-22T19:54:12.718Z"
   },
   {
    "duration": 24,
    "start_time": "2024-07-22T19:55:29.719Z"
   },
   {
    "duration": 20,
    "start_time": "2024-07-22T19:55:42.489Z"
   },
   {
    "duration": 17,
    "start_time": "2024-07-22T20:02:03.207Z"
   },
   {
    "duration": 25,
    "start_time": "2024-07-22T20:04:32.290Z"
   },
   {
    "duration": 25,
    "start_time": "2024-07-22T20:05:00.416Z"
   },
   {
    "duration": 14,
    "start_time": "2024-07-22T20:05:07.326Z"
   },
   {
    "duration": 5,
    "start_time": "2024-07-22T20:05:08.616Z"
   },
   {
    "duration": 4,
    "start_time": "2024-07-22T20:05:09.695Z"
   },
   {
    "duration": 127,
    "start_time": "2024-07-22T20:05:10.714Z"
   },
   {
    "duration": 8,
    "start_time": "2024-07-22T20:05:37.187Z"
   },
   {
    "duration": 5,
    "start_time": "2024-07-22T20:06:00.314Z"
   },
   {
    "duration": 15,
    "start_time": "2024-07-22T20:08:20.737Z"
   },
   {
    "duration": 4,
    "start_time": "2024-07-22T20:08:21.922Z"
   },
   {
    "duration": 4,
    "start_time": "2024-07-22T20:08:23.055Z"
   },
   {
    "duration": 8,
    "start_time": "2024-07-22T20:08:24.456Z"
   },
   {
    "duration": 7,
    "start_time": "2024-07-22T20:14:42.389Z"
   },
   {
    "duration": 7,
    "start_time": "2024-07-22T20:14:52.883Z"
   },
   {
    "duration": 6,
    "start_time": "2024-07-22T20:22:20.908Z"
   },
   {
    "duration": 6,
    "start_time": "2024-07-22T20:23:32.256Z"
   },
   {
    "duration": 6,
    "start_time": "2024-07-22T20:24:25.651Z"
   }
  ],
  "kernelspec": {
   "display_name": "Python 3 (ipykernel)",
   "language": "python",
   "name": "python3"
  },
  "language_info": {
   "codemirror_mode": {
    "name": "ipython",
    "version": 3
   },
   "file_extension": ".py",
   "mimetype": "text/x-python",
   "name": "python",
   "nbconvert_exporter": "python",
   "pygments_lexer": "ipython3",
   "version": "3.9.19"
  },
  "toc": {
   "base_numbering": 1,
   "nav_menu": {},
   "number_sections": true,
   "sideBar": true,
   "skip_h1_title": true,
   "title_cell": "Índice",
   "title_sidebar": "Conteúdos ",
   "toc_cell": false,
   "toc_position": {},
   "toc_section_display": true,
   "toc_window_display": false
  }
 },
 "nbformat": 4,
 "nbformat_minor": 4
}
